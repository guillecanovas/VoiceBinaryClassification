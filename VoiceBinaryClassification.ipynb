{
 "cells": [
  {
   "cell_type": "markdown",
   "id": "4bf412c5",
   "metadata": {},
   "source": [
    "# Audio Classification"
   ]
  },
  {
   "cell_type": "markdown",
   "id": "20a063f1",
   "metadata": {},
   "source": [
    "In this notebook we will try to classift audio spectograms into one of four classes: Steve Jobs, Tim Cook, Bill Gates and Elon Musk. \n",
    "\n",
    "Tim Cook\n",
    " - https://www.youtube.com/watch?v=2C2VJwGBRRw\n",
    " - https://www.youtube.com/watch?v=Jr4LC1q1N_g\n",
    " - https://www.youtube.com/watch?v=5fJMBW-9LTI\n",
    " \n",
    "Elon Musk\n",
    " - https://www.youtube.com/watch?v=BDIRabVP24o\n",
    " - https://www.youtube.com/watch?v=nTWkdhmTyVk\n",
    " - https://www.youtube.com/watch?v=wNxAAMJBWEk\n",
    "\n",
    "\n"
   ]
  },
  {
   "cell_type": "markdown",
   "id": "37f57765",
   "metadata": {},
   "source": [
    "## 1. Dependencies"
   ]
  },
  {
   "cell_type": "code",
   "execution_count": 1,
   "id": "635a0527",
   "metadata": {},
   "outputs": [
    {
     "name": "stderr",
     "output_type": "stream",
     "text": [
      "2023-09-20 18:13:50.149185: I tensorflow/core/platform/cpu_feature_guard.cc:182] This TensorFlow binary is optimized to use available CPU instructions in performance-critical operations.\n",
      "To enable the following instructions: AVX2 FMA, in other operations, rebuild TensorFlow with the appropriate compiler flags.\n"
     ]
    }
   ],
   "source": [
    "import os, sys\n",
    "from matplotlib import pyplot as plt\n",
    "import tensorflow as tf \n",
    "import tensorflow_io as tfio\n",
    "import numpy as np\n",
    "import librosa\n",
    "import librosa.display"
   ]
  },
  {
   "cell_type": "markdown",
   "id": "b5f0c928",
   "metadata": {},
   "source": [
    "## 2. Data"
   ]
  },
  {
   "cell_type": "markdown",
   "id": "92b4d9da",
   "metadata": {},
   "source": [
    "The __training__ data will be used to train our model on the different patterns in Steve Jobs, Tim Cook and Bill Gates. The __validation__ data is used by the model to track how well it's doing in the current epoch. It serves as a benchmark to ensure the model isn't overfitting or underfitting and helps us adjust hyperparameters for better performance. The __test__ data represents real-world scenarios or additional tests we may want to perform to assess the model's generalization and real-world applicability.\n",
    "\n",
    "- Training (75%)\n",
    "- Validation (20%)\n",
    "- Test (5%)"
   ]
  },
  {
   "cell_type": "code",
   "execution_count": 76,
   "id": "edd50268",
   "metadata": {},
   "outputs": [],
   "source": [
    "def split_mp3_to_spectograms(input_mp3, output_directory, discard_last_seconds=10, segment_duration=5, skip_duration=20):\n",
    "    \n",
    "    # Load the MP3 file\n",
    "    y, sr = librosa.load(input_mp3)  \n",
    "    y = y[:-int(discard_last_seconds * sr)] #Discard last 10 seccons\n",
    "    total_duration = librosa.get_duration(y=y, sr=sr) \n",
    "    num_segments = int(np.ceil((total_duration - skip_duration) / segment_duration))\n",
    "\n",
    "    # Split the audio into segments and save the spectrograms\n",
    "    for i in range(num_segments):\n",
    "        start_time = skip_duration + i * segment_duration\n",
    "        end_time = min(skip_duration + (i + 1) * segment_duration, total_duration)\n",
    "        segment = y[int(start_time * sr):int(end_time * sr)]\n",
    "\n",
    "        # Calculate the spectrogram for the segment\n",
    "        spectrogram = librosa.feature.melspectrogram(y=segment, sr=sr)\n",
    "        \n",
    "        # Crop the spectrogram to remove whitespace\n",
    "        nonzero_rows, nonzero_cols = np.where(spectrogram > 0)\n",
    "        spectrogram = spectrogram[np.min(nonzero_rows):np.max(nonzero_rows)+1, np.min(nonzero_cols):np.max(nonzero_cols)+1]\n",
    "\n",
    "\n",
    "        # Save the spectrogram as an image\n",
    "        output_filename = os.path.join(output_directory, f'spectrogram_{i + 1}.png')\n",
    "        plt.figure(figsize=(10, 4))\n",
    "        librosa.display.specshow(librosa.power_to_db(spectrogram, ref=np.max), y_axis=None, x_axis=None)\n",
    "        #plt.axis('off')\n",
    "        #plt.colorbar(format='%+2.0f dB')\n",
    "        #plt.title(f'Spectrogram of segment {i + 1}')\n",
    "        plt.savefig(output_filename, bbox_inches='tight',  pad_inches=0)\n",
    "        plt.close()"
   ]
  },
  {
   "cell_type": "code",
   "execution_count": 17,
   "id": "3170f5eb",
   "metadata": {},
   "outputs": [],
   "source": [
    "MUSK_DIR = os.path.join('data', 'Elon Musk')\n",
    "COOK_DIR  = os.path.join('data', 'Tim Cook')"
   ]
  },
  {
   "cell_type": "code",
   "execution_count": 338,
   "id": "16f0dcb9",
   "metadata": {},
   "outputs": [],
   "source": [
    "for file in os.listdir(MUSK_DIR):\n",
    "    if file.endswith(\".mp3\"):\n",
    "        mp3_file = os.path.join(MUSK_DIR, file)\n",
    "        output_directory = MUSK_DIR + '/spectrograms'\n",
    "        split_mp3_to_spectograms(mp3_file, output_directory)"
   ]
  },
  {
   "cell_type": "code",
   "execution_count": 295,
   "id": "4d0cc7a5",
   "metadata": {},
   "outputs": [],
   "source": [
    "for file in os.listdir(COOK_DIR):\n",
    "    if file.endswith(\".mp3\"):\n",
    "        mp3_file = os.path.join(COOK_DIR, file)\n",
    "        output_directory = COOK_DIR + '/spectrograms'\n",
    "        split_mp3_to_spectograms(mp3_file, output_directory)"
   ]
  },
  {
   "cell_type": "markdown",
   "id": "48adcb21",
   "metadata": {},
   "source": [
    "## 3. Create Tensorflow dataset"
   ]
  },
  {
   "cell_type": "code",
   "execution_count": 222,
   "id": "0aa9df01",
   "metadata": {},
   "outputs": [],
   "source": [
    "musk = tf.data.Dataset.list_files(MUSK_DIR + '/spectrograms' + '/*.png')\n",
    "cook = tf.data.Dataset.list_files(COOK_DIR + '/spectrograms' + '/*.png')"
   ]
  },
  {
   "cell_type": "code",
   "execution_count": 224,
   "id": "f231f0b4",
   "metadata": {},
   "outputs": [
    {
     "data": {
      "text/plain": [
       "(209, 251)"
      ]
     },
     "execution_count": 224,
     "metadata": {},
     "output_type": "execute_result"
    }
   ],
   "source": [
    "len(musk), len(cook)"
   ]
  },
  {
   "cell_type": "code",
   "execution_count": 225,
   "id": "00046bd3",
   "metadata": {},
   "outputs": [],
   "source": [
    "#Add labels and combine positive and negative samples\n",
    "elon_musk = tf.data.Dataset.zip((musk, tf.data.Dataset.from_tensor_slices(tf.ones(len(musk))))) #1\n",
    "tim_cook = tf.data.Dataset.zip((cook, tf.data.Dataset.from_tensor_slices(tf.zeros(len(cook))))) #2\n",
    "data = elon_musk.concatenate(tim_cook)"
   ]
  },
  {
   "cell_type": "code",
   "execution_count": 226,
   "id": "a37aba6f",
   "metadata": {},
   "outputs": [
    {
     "data": {
      "text/plain": [
       "(b'data/Elon Musk/spectrograms/spectrogram_144.png', 1.0)"
      ]
     },
     "execution_count": 226,
     "metadata": {},
     "output_type": "execute_result"
    }
   ],
   "source": [
    "data.as_numpy_iterator().next()"
   ]
  },
  {
   "cell_type": "markdown",
   "id": "32970abe",
   "metadata": {},
   "source": [
    "## 4. Preprocessing"
   ]
  },
  {
   "cell_type": "code",
   "execution_count": 11,
   "id": "53839bcf",
   "metadata": {},
   "outputs": [],
   "source": [
    "from PIL import Image"
   ]
  },
  {
   "cell_type": "code",
   "execution_count": 227,
   "id": "dbf42207",
   "metadata": {},
   "outputs": [],
   "source": [
    "@tf.function\n",
    "def preprocess(file_path, label):\n",
    "    # Decode the PNG image\n",
    "    spectrogram_data = tf.io.read_file(file_path)\n",
    "    spectrogram_image = tf.image.decode_png(spectrogram_data, channels=3)  # Adjust channels as needed\n",
    "    \n",
    "    # Redimensionar la imagen a las dimensiones deseadas (308x775)\n",
    "    spectrogram_image = tf.image.resize(spectrogram_image, [308, 775])\n",
    "\n",
    "    # Convert the image to a tensor\n",
    "    spectrogram = tf.cast(spectrogram_image, tf.float32) / 255.0  # Scale to [0, 1]\n",
    "    \n",
    "    return spectrogram, label"
   ]
  },
  {
   "cell_type": "code",
   "execution_count": 228,
   "id": "14dfa000",
   "metadata": {
    "scrolled": true
   },
   "outputs": [],
   "source": [
    "data = data.map(preprocess)"
   ]
  },
  {
   "cell_type": "code",
   "execution_count": 229,
   "id": "827aff65",
   "metadata": {},
   "outputs": [
    {
     "data": {
      "text/plain": [
       "1.0"
      ]
     },
     "execution_count": 229,
     "metadata": {},
     "output_type": "execute_result"
    }
   ],
   "source": [
    "sample, label = data.as_numpy_iterator().next()\n",
    "label"
   ]
  },
  {
   "cell_type": "code",
   "execution_count": 230,
   "id": "779300f0",
   "metadata": {},
   "outputs": [],
   "source": [
    "data = data.cache()\n",
    "data = data.shuffle(buffer_size=1000)\n",
    "data = data.batch(batch_size=8)\n",
    "data = data.prefetch(8)"
   ]
  },
  {
   "cell_type": "code",
   "execution_count": 231,
   "id": "df594636",
   "metadata": {},
   "outputs": [],
   "source": [
    "sample, label = data.as_numpy_iterator().next()"
   ]
  },
  {
   "cell_type": "code",
   "execution_count": 232,
   "id": "3e5d9444",
   "metadata": {},
   "outputs": [
    {
     "data": {
      "text/plain": [
       "array([[[[0.        , 0.        , 0.        ],\n",
       "         [0.        , 0.        , 0.        ],\n",
       "         [0.        , 0.        , 0.        ],\n",
       "         ...,\n",
       "         [0.        , 0.        , 0.        ],\n",
       "         [0.        , 0.        , 0.        ],\n",
       "         [0.        , 0.        , 0.        ]],\n",
       "\n",
       "        [[0.        , 0.        , 0.        ],\n",
       "         [0.        , 0.        , 0.00784314],\n",
       "         [0.        , 0.        , 0.01176471],\n",
       "         ...,\n",
       "         [0.33333334, 0.07843138, 0.46666667],\n",
       "         [0.33333334, 0.07843138, 0.46666667],\n",
       "         [0.3137255 , 0.07058824, 0.4392157 ]],\n",
       "\n",
       "        [[0.        , 0.        , 0.        ],\n",
       "         [0.        , 0.        , 0.01176471],\n",
       "         [0.        , 0.        , 0.01568628],\n",
       "         ...,\n",
       "         [0.36078432, 0.08627451, 0.49803922],\n",
       "         [0.36078432, 0.08627451, 0.49803922],\n",
       "         [0.3372549 , 0.07843138, 0.47058824]],\n",
       "\n",
       "        ...,\n",
       "\n",
       "        [[0.        , 0.        , 0.        ],\n",
       "         [0.2       , 0.05882353, 0.39607844],\n",
       "         [0.21176471, 0.0627451 , 0.41960785],\n",
       "         ...,\n",
       "         [0.72156864, 0.21568628, 0.4745098 ],\n",
       "         [0.72156864, 0.21568628, 0.4745098 ],\n",
       "         [0.6784314 , 0.2       , 0.44705883]],\n",
       "\n",
       "        [[0.        , 0.        , 0.        ],\n",
       "         [0.20392157, 0.05882353, 0.4       ],\n",
       "         [0.21960784, 0.0627451 , 0.42352942],\n",
       "         ...,\n",
       "         [0.65882355, 0.19607843, 0.49019608],\n",
       "         [0.65882355, 0.19607843, 0.49019608],\n",
       "         [0.61960787, 0.18431373, 0.4627451 ]],\n",
       "\n",
       "        [[0.        , 0.        , 0.        ],\n",
       "         [0.19215687, 0.05490196, 0.3764706 ],\n",
       "         [0.20392157, 0.05882353, 0.4       ],\n",
       "         ...,\n",
       "         [0.61960787, 0.18431373, 0.4627451 ],\n",
       "         [0.61960787, 0.18431373, 0.4627451 ],\n",
       "         [0.58431375, 0.17254902, 0.43529412]]],\n",
       "\n",
       "\n",
       "       [[[0.        , 0.        , 0.        ],\n",
       "         [0.        , 0.        , 0.        ],\n",
       "         [0.        , 0.        , 0.        ],\n",
       "         ...,\n",
       "         [0.        , 0.        , 0.        ],\n",
       "         [0.        , 0.        , 0.        ],\n",
       "         [0.        , 0.        , 0.        ]],\n",
       "\n",
       "        [[0.        , 0.        , 0.        ],\n",
       "         [0.32156864, 0.07450981, 0.44313726],\n",
       "         [0.34117648, 0.08235294, 0.47058824],\n",
       "         ...,\n",
       "         [0.00392157, 0.00392157, 0.04705882],\n",
       "         [0.00392157, 0.00392157, 0.04705882],\n",
       "         [0.        , 0.        , 0.04313726]],\n",
       "\n",
       "        [[0.        , 0.        , 0.        ],\n",
       "         [0.34117648, 0.08235294, 0.47058824],\n",
       "         [0.3647059 , 0.09019608, 0.49803922],\n",
       "         ...,\n",
       "         [0.09803922, 0.0627451 , 0.24705882],\n",
       "         [0.09803922, 0.0627451 , 0.24705882],\n",
       "         [0.09019608, 0.05882353, 0.23137255]],\n",
       "\n",
       "        ...,\n",
       "\n",
       "        [[0.        , 0.        , 0.        ],\n",
       "         [0.80784315, 0.2627451 , 0.39215687],\n",
       "         [0.85882354, 0.2784314 , 0.41568628],\n",
       "         ...,\n",
       "         [0.2784314 , 0.0627451 , 0.47058824],\n",
       "         [0.2784314 , 0.0627451 , 0.47058824],\n",
       "         [0.2627451 , 0.05882353, 0.44313726]],\n",
       "\n",
       "        [[0.        , 0.        , 0.        ],\n",
       "         [0.7921569 , 0.25490198, 0.4       ],\n",
       "         [0.8392157 , 0.27058825, 0.42352942],\n",
       "         ...,\n",
       "         [0.09411765, 0.05882353, 0.23921569],\n",
       "         [0.09411765, 0.05882353, 0.23921569],\n",
       "         [0.08627451, 0.05490196, 0.22352941]],\n",
       "\n",
       "        [[0.        , 0.        , 0.        ],\n",
       "         [0.74509805, 0.23921569, 0.3764706 ],\n",
       "         [0.7921569 , 0.25490198, 0.4       ],\n",
       "         ...,\n",
       "         [0.08627451, 0.05490196, 0.22352941],\n",
       "         [0.08627451, 0.05490196, 0.22352941],\n",
       "         [0.07843138, 0.05098039, 0.20784314]]],\n",
       "\n",
       "\n",
       "       [[[0.        , 0.        , 0.        ],\n",
       "         [0.        , 0.        , 0.        ],\n",
       "         [0.        , 0.        , 0.        ],\n",
       "         ...,\n",
       "         [0.        , 0.        , 0.        ],\n",
       "         [0.        , 0.        , 0.        ],\n",
       "         [0.        , 0.        , 0.        ]],\n",
       "\n",
       "        [[0.        , 0.        , 0.        ],\n",
       "         [0.32941177, 0.07843138, 0.44313726],\n",
       "         [0.34901962, 0.08627451, 0.47058824],\n",
       "         ...,\n",
       "         [0.2509804 , 0.05490196, 0.43529412],\n",
       "         [0.2509804 , 0.05490196, 0.43529412],\n",
       "         [0.23529412, 0.05098039, 0.40784314]],\n",
       "\n",
       "        [[0.        , 0.        , 0.        ],\n",
       "         [0.5647059 , 0.16470589, 0.47058824],\n",
       "         [0.6       , 0.1764706 , 0.5019608 ],\n",
       "         ...,\n",
       "         [0.47058824, 0.13333334, 0.5058824 ],\n",
       "         [0.47058824, 0.13333334, 0.5058824 ],\n",
       "         [0.44313726, 0.1254902 , 0.4745098 ]],\n",
       "\n",
       "        ...,\n",
       "\n",
       "        [[0.        , 0.        , 0.        ],\n",
       "         [0.47058824, 0.13333334, 0.47843137],\n",
       "         [0.5019608 , 0.14509805, 0.50980395],\n",
       "         ...,\n",
       "         [0.15294118, 0.07058824, 0.34509805],\n",
       "         [0.15294118, 0.07058824, 0.34509805],\n",
       "         [0.14117648, 0.06666667, 0.3254902 ]],\n",
       "\n",
       "        [[0.        , 0.        , 0.        ],\n",
       "         [0.48235294, 0.13725491, 0.4745098 ],\n",
       "         [0.5137255 , 0.14901961, 0.5058824 ],\n",
       "         ...,\n",
       "         [0.20392157, 0.0627451 , 0.4117647 ],\n",
       "         [0.20392157, 0.0627451 , 0.4117647 ],\n",
       "         [0.19215687, 0.05882353, 0.3882353 ]],\n",
       "\n",
       "        [[0.        , 0.        , 0.        ],\n",
       "         [0.45490196, 0.12941177, 0.44705883],\n",
       "         [0.48235294, 0.13725491, 0.4745098 ],\n",
       "         ...,\n",
       "         [0.19215687, 0.05882353, 0.3882353 ],\n",
       "         [0.19215687, 0.05882353, 0.3882353 ],\n",
       "         [0.18039216, 0.05490196, 0.3647059 ]]],\n",
       "\n",
       "\n",
       "       ...,\n",
       "\n",
       "\n",
       "       [[[0.        , 0.        , 0.        ],\n",
       "         [0.        , 0.        , 0.        ],\n",
       "         [0.        , 0.        , 0.        ],\n",
       "         ...,\n",
       "         [0.        , 0.        , 0.        ],\n",
       "         [0.        , 0.        , 0.        ],\n",
       "         [0.        , 0.        , 0.        ]],\n",
       "\n",
       "        [[0.        , 0.        , 0.        ],\n",
       "         [0.        , 0.        , 0.00784314],\n",
       "         [0.        , 0.        , 0.01176471],\n",
       "         ...,\n",
       "         [0.        , 0.        , 0.01176471],\n",
       "         [0.        , 0.        , 0.01176471],\n",
       "         [0.        , 0.        , 0.00784314]],\n",
       "\n",
       "        [[0.        , 0.        , 0.        ],\n",
       "         [0.        , 0.        , 0.01176471],\n",
       "         [0.        , 0.        , 0.01568628],\n",
       "         ...,\n",
       "         [0.00784314, 0.00392157, 0.03529412],\n",
       "         [0.00784314, 0.00392157, 0.03529412],\n",
       "         [0.00392157, 0.        , 0.03137255]],\n",
       "\n",
       "        ...,\n",
       "\n",
       "        [[0.        , 0.        , 0.        ],\n",
       "         [0.2       , 0.05882353, 0.39607844],\n",
       "         [0.21176471, 0.0627451 , 0.41960785],\n",
       "         ...,\n",
       "         [0.10980392, 0.0627451 , 0.26666668],\n",
       "         [0.10980392, 0.0627451 , 0.26666668],\n",
       "         [0.10196079, 0.05882353, 0.2509804 ]],\n",
       "\n",
       "        [[0.        , 0.        , 0.        ],\n",
       "         [0.08627451, 0.05490196, 0.22352941],\n",
       "         [0.09411765, 0.05882353, 0.23921569],\n",
       "         ...,\n",
       "         [0.11764706, 0.06666667, 0.28627452],\n",
       "         [0.11764706, 0.06666667, 0.28627452],\n",
       "         [0.10980392, 0.0627451 , 0.26666668]],\n",
       "\n",
       "        [[0.        , 0.        , 0.        ],\n",
       "         [0.07843138, 0.05098039, 0.20784314],\n",
       "         [0.08627451, 0.05490196, 0.22352941],\n",
       "         ...,\n",
       "         [0.10980392, 0.0627451 , 0.26666668],\n",
       "         [0.10980392, 0.0627451 , 0.26666668],\n",
       "         [0.10196079, 0.05882353, 0.2509804 ]]],\n",
       "\n",
       "\n",
       "       [[[0.        , 0.        , 0.        ],\n",
       "         [0.        , 0.        , 0.        ],\n",
       "         [0.        , 0.        , 0.        ],\n",
       "         ...,\n",
       "         [0.        , 0.        , 0.        ],\n",
       "         [0.        , 0.        , 0.        ],\n",
       "         [0.        , 0.        , 0.        ]],\n",
       "\n",
       "        [[0.        , 0.        , 0.        ],\n",
       "         [0.06666667, 0.04705882, 0.19215687],\n",
       "         [0.07450981, 0.05098039, 0.20392157],\n",
       "         ...,\n",
       "         [0.16078432, 0.0627451 , 0.34901962],\n",
       "         [0.16078432, 0.0627451 , 0.34901962],\n",
       "         [0.14901961, 0.05882353, 0.32941177]],\n",
       "\n",
       "        [[0.        , 0.        , 0.        ],\n",
       "         [0.13333334, 0.06666667, 0.30588236],\n",
       "         [0.14117648, 0.07058824, 0.3254902 ],\n",
       "         ...,\n",
       "         [0.2901961 , 0.0627451 , 0.4745098 ],\n",
       "         [0.2901961 , 0.0627451 , 0.4745098 ],\n",
       "         [0.27058825, 0.05882353, 0.44705883]],\n",
       "\n",
       "        ...,\n",
       "\n",
       "        [[0.        , 0.        , 0.        ],\n",
       "         [0.75686276, 0.23529412, 0.41568628],\n",
       "         [0.8039216 , 0.2509804 , 0.44313726],\n",
       "         ...,\n",
       "         [0.5176471 , 0.14901961, 0.5058824 ],\n",
       "         [0.5176471 , 0.14901961, 0.5058824 ],\n",
       "         [0.4862745 , 0.13725491, 0.4745098 ]],\n",
       "\n",
       "        [[0.        , 0.        , 0.        ],\n",
       "         [0.7372549 , 0.22352941, 0.42352942],\n",
       "         [0.78039217, 0.23921569, 0.4509804 ],\n",
       "         ...,\n",
       "         [0.45882353, 0.12941177, 0.5058824 ],\n",
       "         [0.45882353, 0.12941177, 0.5058824 ],\n",
       "         [0.43137255, 0.12156863, 0.4745098 ]],\n",
       "\n",
       "        [[0.        , 0.        , 0.        ],\n",
       "         [0.69411767, 0.20784314, 0.4       ],\n",
       "         [0.7372549 , 0.22352941, 0.42352942],\n",
       "         ...,\n",
       "         [0.43137255, 0.12156863, 0.4745098 ],\n",
       "         [0.43137255, 0.12156863, 0.4745098 ],\n",
       "         [0.40392157, 0.11372549, 0.44705883]]],\n",
       "\n",
       "\n",
       "       [[[0.        , 0.        , 0.        ],\n",
       "         [0.        , 0.        , 0.        ],\n",
       "         [0.        , 0.        , 0.        ],\n",
       "         ...,\n",
       "         [0.        , 0.        , 0.        ],\n",
       "         [0.        , 0.        , 0.        ],\n",
       "         [0.        , 0.        , 0.        ]],\n",
       "\n",
       "        [[0.        , 0.        , 0.        ],\n",
       "         [0.        , 0.        , 0.00784314],\n",
       "         [0.        , 0.        , 0.01176471],\n",
       "         ...,\n",
       "         [0.        , 0.        , 0.01176471],\n",
       "         [0.        , 0.        , 0.01176471],\n",
       "         [0.        , 0.        , 0.00784314]],\n",
       "\n",
       "        [[0.        , 0.        , 0.        ],\n",
       "         [0.01176471, 0.01176471, 0.07058824],\n",
       "         [0.01568628, 0.01568628, 0.07843138],\n",
       "         ...,\n",
       "         [0.        , 0.        , 0.01568628],\n",
       "         [0.        , 0.        , 0.01568628],\n",
       "         [0.        , 0.        , 0.01176471]],\n",
       "\n",
       "        ...,\n",
       "\n",
       "        [[0.        , 0.        , 0.        ],\n",
       "         [0.41960785, 0.11372549, 0.4745098 ],\n",
       "         [0.44705883, 0.12156863, 0.5058824 ],\n",
       "         ...,\n",
       "         [0.28627452, 0.0627451 , 0.47058824],\n",
       "         [0.28627452, 0.0627451 , 0.47058824],\n",
       "         [0.26666668, 0.05882353, 0.44313726]],\n",
       "\n",
       "        [[0.        , 0.        , 0.        ],\n",
       "         [0.41960785, 0.11372549, 0.4745098 ],\n",
       "         [0.44705883, 0.12156863, 0.5058824 ],\n",
       "         ...,\n",
       "         [0.29803923, 0.06666667, 0.47843137],\n",
       "         [0.29803923, 0.06666667, 0.47843137],\n",
       "         [0.2784314 , 0.0627451 , 0.4509804 ]],\n",
       "\n",
       "        [[0.        , 0.        , 0.        ],\n",
       "         [0.39607844, 0.10588235, 0.44705883],\n",
       "         [0.41960785, 0.11372549, 0.4745098 ],\n",
       "         ...,\n",
       "         [0.2784314 , 0.0627451 , 0.4509804 ],\n",
       "         [0.2784314 , 0.0627451 , 0.4509804 ],\n",
       "         [0.2627451 , 0.05882353, 0.42352942]]]], dtype=float32)"
      ]
     },
     "execution_count": 232,
     "metadata": {},
     "output_type": "execute_result"
    }
   ],
   "source": [
    "sample"
   ]
  },
  {
   "cell_type": "code",
   "execution_count": 233,
   "id": "8c0da77d",
   "metadata": {},
   "outputs": [
    {
     "data": {
      "text/plain": [
       "array([0., 0., 0., 0., 1., 0., 1., 0.], dtype=float32)"
      ]
     },
     "execution_count": 233,
     "metadata": {},
     "output_type": "execute_result"
    }
   ],
   "source": [
    "label"
   ]
  },
  {
   "cell_type": "markdown",
   "id": "49dab424",
   "metadata": {},
   "source": [
    "## 5. Train, test and validation data"
   ]
  },
  {
   "cell_type": "code",
   "execution_count": 234,
   "id": "c628ca5c",
   "metadata": {},
   "outputs": [
    {
     "data": {
      "text/plain": [
       "(58, 40, 8, 8)"
      ]
     },
     "execution_count": 234,
     "metadata": {},
     "output_type": "execute_result"
    }
   ],
   "source": [
    "total_size = len(data)\n",
    "train_size = int(len(data)*0.70)\n",
    "val_size = int(len(data)*0.15)\n",
    "test_size = int(len(data)*0.15)\n",
    "\n",
    "total_size, train_size, val_size, test_size"
   ]
  },
  {
   "cell_type": "code",
   "execution_count": 235,
   "id": "8c96125b",
   "metadata": {},
   "outputs": [],
   "source": [
    "train = data.take(train_size+1)\n",
    "test = data.skip(train_size+1).take(test_size)\n",
    "val = data.skip(train_size+test_size+1).take(val_size)"
   ]
  },
  {
   "cell_type": "code",
   "execution_count": 236,
   "id": "7b066749",
   "metadata": {},
   "outputs": [],
   "source": [
    "samples, labels = train.as_numpy_iterator().next()"
   ]
  },
  {
   "cell_type": "code",
   "execution_count": 237,
   "id": "cae22ade",
   "metadata": {},
   "outputs": [
    {
     "data": {
      "text/plain": [
       "(8, 308, 775, 3)"
      ]
     },
     "execution_count": 237,
     "metadata": {},
     "output_type": "execute_result"
    }
   ],
   "source": [
    "samples.shape #spectogram has the shape of (308,775,3)"
   ]
  },
  {
   "cell_type": "code",
   "execution_count": 238,
   "id": "ece054ea",
   "metadata": {},
   "outputs": [
    {
     "data": {
      "text/plain": [
       "array([1., 1., 0., 1., 0., 1., 1., 0.], dtype=float32)"
      ]
     },
     "execution_count": 238,
     "metadata": {},
     "output_type": "execute_result"
    }
   ],
   "source": [
    "labels"
   ]
  },
  {
   "cell_type": "code",
   "execution_count": 239,
   "id": "79f1d42f",
   "metadata": {},
   "outputs": [
    {
     "data": {
      "text/plain": [
       "(308, 775, 3)"
      ]
     },
     "execution_count": 239,
     "metadata": {},
     "output_type": "execute_result"
    }
   ],
   "source": [
    "model_input_shape = (samples.shape[1], samples.shape[2], samples.shape[3])\n",
    "model_input_shape"
   ]
  },
  {
   "cell_type": "code",
   "execution_count": 240,
   "id": "bc424f13",
   "metadata": {},
   "outputs": [
    {
     "data": {
      "text/plain": [
       "<_TakeDataset element_spec=(TensorSpec(shape=(None, 308, 775, 3), dtype=tf.float32, name=None), TensorSpec(shape=(None,), dtype=tf.float32, name=None))>"
      ]
     },
     "execution_count": 240,
     "metadata": {},
     "output_type": "execute_result"
    }
   ],
   "source": [
    "train"
   ]
  },
  {
   "cell_type": "markdown",
   "id": "7ca1e1ab",
   "metadata": {},
   "source": [
    "The size is 308 x 755 with 3 channels RGB and 16 is the number of examples that is the batch size we have selected"
   ]
  },
  {
   "cell_type": "markdown",
   "id": "82982354",
   "metadata": {},
   "source": [
    "## 5. Build, Compile and Fit the Model"
   ]
  },
  {
   "cell_type": "code",
   "execution_count": 38,
   "id": "b8823481",
   "metadata": {},
   "outputs": [],
   "source": [
    "from tensorflow.keras.models import Sequential\n",
    "from tensorflow.keras.layers import Conv2D, Dense, Flatten, MaxPooling2D, Dropout"
   ]
  },
  {
   "cell_type": "code",
   "execution_count": 241,
   "id": "b6bab468",
   "metadata": {},
   "outputs": [],
   "source": [
    "model = Sequential()\n",
    "\n",
    "#Input layers\n",
    "model.add(Conv2D(32, (3,3), activation='relu', input_shape=model_input_shape))\n",
    "model.add(MaxPooling2D((2, 2)))\n",
    "\n",
    "#1st Hidden layers\n",
    "model.add(Conv2D(64, (3,3), activation='relu'))\n",
    "model.add(MaxPooling2D((2, 2)))\n",
    "\n",
    "#2nd Hidden layers\n",
    "model.add(Conv2D(64, (3,3), activation='relu'))\n",
    "model.add(MaxPooling2D((2, 2)))\n",
    "\n",
    "#3rd Hideen layers group\n",
    "model.add(Flatten())\n",
    "model.add(Dense(128, activation='relu'))\n",
    "\n",
    "#Output layer\n",
    "#model.add(Dropout(0.5))\n",
    "model.add(Dense(1, activation='sigmoid'))"
   ]
  },
  {
   "cell_type": "code",
   "execution_count": 242,
   "id": "8c79221b",
   "metadata": {},
   "outputs": [],
   "source": [
    "model.compile('Adam', loss='BinaryCrossentropy', metrics=[tf.keras.metrics.Recall(),tf.keras.metrics.Precision()])"
   ]
  },
  {
   "cell_type": "code",
   "execution_count": 243,
   "id": "4e90c7e1",
   "metadata": {},
   "outputs": [
    {
     "name": "stdout",
     "output_type": "stream",
     "text": [
      "Model: \"sequential_4\"\n",
      "_________________________________________________________________\n",
      " Layer (type)                Output Shape              Param #   \n",
      "=================================================================\n",
      " conv2d_12 (Conv2D)          (None, 306, 773, 32)      896       \n",
      "                                                                 \n",
      " max_pooling2d_12 (MaxPooli  (None, 153, 386, 32)      0         \n",
      " ng2D)                                                           \n",
      "                                                                 \n",
      " conv2d_13 (Conv2D)          (None, 151, 384, 64)      18496     \n",
      "                                                                 \n",
      " max_pooling2d_13 (MaxPooli  (None, 75, 192, 64)       0         \n",
      " ng2D)                                                           \n",
      "                                                                 \n",
      " conv2d_14 (Conv2D)          (None, 73, 190, 64)       36928     \n",
      "                                                                 \n",
      " max_pooling2d_14 (MaxPooli  (None, 36, 95, 64)        0         \n",
      " ng2D)                                                           \n",
      "                                                                 \n",
      " flatten_4 (Flatten)         (None, 218880)            0         \n",
      "                                                                 \n",
      " dense_8 (Dense)             (None, 128)               28016768  \n",
      "                                                                 \n",
      " dense_9 (Dense)             (None, 1)                 129       \n",
      "                                                                 \n",
      "=================================================================\n",
      "Total params: 28073217 (107.09 MB)\n",
      "Trainable params: 28073217 (107.09 MB)\n",
      "Non-trainable params: 0 (0.00 Byte)\n",
      "_________________________________________________________________\n"
     ]
    }
   ],
   "source": [
    "model.summary()"
   ]
  },
  {
   "cell_type": "code",
   "execution_count": 244,
   "id": "8a8235b2",
   "metadata": {},
   "outputs": [
    {
     "name": "stdout",
     "output_type": "stream",
     "text": [
      "Epoch 1/10\n",
      "41/41 [==============================] - 65s 2s/step - loss: 0.9466 - recall_5: 0.6071 - precision_5: 0.6204 - val_loss: 0.3586 - val_recall_5: 0.6333 - val_precision_5: 1.0000\n",
      "Epoch 2/10\n",
      "41/41 [==============================] - 55s 1s/step - loss: 0.2169 - recall_5: 0.9301 - precision_5: 0.9366 - val_loss: 0.0467 - val_recall_5: 1.0000 - val_precision_5: 1.0000\n",
      "Epoch 3/10\n",
      "41/41 [==============================] - 56s 1s/step - loss: 0.0446 - recall_5: 0.9863 - precision_5: 0.9796 - val_loss: 0.1632 - val_recall_5: 0.9667 - val_precision_5: 1.0000\n",
      "Epoch 4/10\n",
      "41/41 [==============================] - 55s 1s/step - loss: 0.0966 - recall_5: 0.9603 - precision_5: 0.9797 - val_loss: 0.1530 - val_recall_5: 1.0000 - val_precision_5: 0.8788\n",
      "Epoch 5/10\n",
      "41/41 [==============================] - 55s 1s/step - loss: 0.0464 - recall_5: 0.9871 - precision_5: 0.9871 - val_loss: 0.0131 - val_recall_5: 1.0000 - val_precision_5: 1.0000\n",
      "Epoch 6/10\n",
      "41/41 [==============================] - 55s 1s/step - loss: 0.0771 - recall_5: 0.9735 - precision_5: 0.9671 - val_loss: 0.2038 - val_recall_5: 0.8148 - val_precision_5: 1.0000\n",
      "Epoch 7/10\n",
      "41/41 [==============================] - 55s 1s/step - loss: 0.1749 - recall_5: 0.9514 - precision_5: 0.9133 - val_loss: 0.1658 - val_recall_5: 0.9677 - val_precision_5: 0.9677\n",
      "Epoch 8/10\n",
      "41/41 [==============================] - 55s 1s/step - loss: 0.0599 - recall_5: 0.9868 - precision_5: 0.9868 - val_loss: 0.0187 - val_recall_5: 1.0000 - val_precision_5: 1.0000\n",
      "Epoch 9/10\n",
      "41/41 [==============================] - 56s 1s/step - loss: 0.0887 - recall_5: 0.9931 - precision_5: 0.9728 - val_loss: 0.0104 - val_recall_5: 1.0000 - val_precision_5: 1.0000\n",
      "Epoch 10/10\n",
      "41/41 [==============================] - 55s 1s/step - loss: 0.0331 - recall_5: 0.9933 - precision_5: 1.0000 - val_loss: 5.6747e-04 - val_recall_5: 1.0000 - val_precision_5: 1.0000\n"
     ]
    }
   ],
   "source": [
    "hist = model.fit(train, epochs=10, validation_data=val)"
   ]
  },
  {
   "cell_type": "code",
   "execution_count": null,
   "id": "0d12cc60",
   "metadata": {},
   "outputs": [],
   "source": [
    "plt.title('Loss')\n",
    "plt.plot(hist.history['loss'], 'r')\n",
    "plt.plot(hist.history['val_loss'], 'b')\n",
    "plt.show()"
   ]
  },
  {
   "cell_type": "code",
   "execution_count": null,
   "id": "bad2b003",
   "metadata": {},
   "outputs": [],
   "source": [
    "plt.title('Precision')\n",
    "plt.plot(hist.history['precision_1'], 'r')\n",
    "plt.plot(hist.history['val_precision_1'], 'b')\n",
    "plt.show()"
   ]
  },
  {
   "cell_type": "code",
   "execution_count": null,
   "id": "5f900b26",
   "metadata": {},
   "outputs": [],
   "source": [
    "plt.title('Recall')\n",
    "plt.plot(hist.history['recall_1'], 'r')\n",
    "plt.plot(hist.history['val_recall_1'], 'b')\n",
    "plt.show()"
   ]
  },
  {
   "cell_type": "markdown",
   "id": "51a2fd8a",
   "metadata": {},
   "source": [
    "## 6. Save the model"
   ]
  },
  {
   "cell_type": "code",
   "execution_count": null,
   "id": "f41f0699",
   "metadata": {},
   "outputs": [],
   "source": [
    "model.save('model.h5')"
   ]
  },
  {
   "cell_type": "markdown",
   "id": "8aaf6cf2",
   "metadata": {},
   "source": [
    "## 7. Make predictions"
   ]
  },
  {
   "cell_type": "code",
   "execution_count": null,
   "id": "762fd5b2",
   "metadata": {},
   "outputs": [],
   "source": [
    "stored_model = keras.models.load_model('model.h5')"
   ]
  },
  {
   "cell_type": "markdown",
   "id": "9322d344",
   "metadata": {},
   "source": [
    "## 7.1 Get one batch and make the prediction"
   ]
  },
  {
   "cell_type": "code",
   "execution_count": 245,
   "id": "605f4e08",
   "metadata": {},
   "outputs": [],
   "source": [
    "X_test, y_test = test.as_numpy_iterator().next()"
   ]
  },
  {
   "cell_type": "code",
   "execution_count": 246,
   "id": "21d0ddb4",
   "metadata": {},
   "outputs": [
    {
     "name": "stdout",
     "output_type": "stream",
     "text": [
      "1/1 [==============================] - 0s 387ms/step\n"
     ]
    }
   ],
   "source": [
    "yhat = model.predict(X_test)"
   ]
  },
  {
   "cell_type": "code",
   "execution_count": 247,
   "id": "1372f80c",
   "metadata": {},
   "outputs": [],
   "source": [
    "yhat = [1 if prediction > 0.50 else 0 for prediction in yhat]"
   ]
  },
  {
   "cell_type": "code",
   "execution_count": 248,
   "id": "f5905ef9",
   "metadata": {},
   "outputs": [
    {
     "data": {
      "text/plain": [
       "[0, 1, 1, 0, 1, 0, 0, 0]"
      ]
     },
     "execution_count": 248,
     "metadata": {},
     "output_type": "execute_result"
    }
   ],
   "source": [
    "yhat"
   ]
  },
  {
   "cell_type": "code",
   "execution_count": 249,
   "id": "70592fed",
   "metadata": {},
   "outputs": [
    {
     "data": {
      "text/plain": [
       "array([0, 1, 1, 0, 1, 0, 0, 0])"
      ]
     },
     "execution_count": 249,
     "metadata": {},
     "output_type": "execute_result"
    }
   ],
   "source": [
    "y_test.astype(int)"
   ]
  },
  {
   "cell_type": "code",
   "execution_count": 250,
   "id": "0879d20a",
   "metadata": {},
   "outputs": [
    {
     "data": {
      "text/plain": [
       "array([ True,  True,  True,  True,  True,  True,  True,  True])"
      ]
     },
     "execution_count": 250,
     "metadata": {},
     "output_type": "execute_result"
    }
   ],
   "source": [
    "y_test.astype(int) == yhat"
   ]
  },
  {
   "cell_type": "markdown",
   "id": "0c37bf1c",
   "metadata": {},
   "source": [
    "## 8. Make predictions given an .mp3"
   ]
  },
  {
   "cell_type": "markdown",
   "id": "0d4bf609",
   "metadata": {},
   "source": [
    "- Tim Cook: https://www.youtube.com/watch?v=prxi0LYp8yc\n",
    "\n",
    "- Elon Musk: https://www.youtube.com/watch?v=M-ZH3psUbfU"
   ]
  },
  {
   "cell_type": "code",
   "execution_count": 251,
   "id": "12b0f686",
   "metadata": {},
   "outputs": [],
   "source": [
    "UNSEEN_MUSK_DIR = os.path.join('data', 'Unseen', 'Elon Musk')\n",
    "UNSEEN_COOK_DIR = os.path.join('data', 'Unseen', 'Tim Cook')"
   ]
  },
  {
   "cell_type": "code",
   "execution_count": 252,
   "id": "39649b22",
   "metadata": {},
   "outputs": [
    {
     "data": {
      "text/plain": [
       "'data/Unseen/Elon Musk'"
      ]
     },
     "execution_count": 252,
     "metadata": {},
     "output_type": "execute_result"
    }
   ],
   "source": [
    "UNSEEN_MUSK_DIR"
   ]
  },
  {
   "cell_type": "code",
   "execution_count": 253,
   "id": "4ae0ecd0",
   "metadata": {},
   "outputs": [
    {
     "name": "stdout",
     "output_type": "stream",
     "text": [
      ".DS_Store\n",
      "1.mp3\n",
      "spectrograms\n"
     ]
    }
   ],
   "source": [
    "for file in os.listdir(UNSEEN_MUSK_DIR):\n",
    "    print(file)"
   ]
  },
  {
   "cell_type": "code",
   "execution_count": 255,
   "id": "568e8fcd",
   "metadata": {},
   "outputs": [],
   "source": [
    "for file in os.listdir(UNSEEN_MUSK_DIR):\n",
    "    if file.endswith(\".mp3\"):\n",
    "        mp3_file = os.path.join(UNSEEN_MUSK_DIR, file)\n",
    "        output_directory = UNSEEN_MUSK_DIR + '/spectrograms'\n",
    "        split_mp3_to_spectograms(mp3_file, output_directory, 403, 5, 35) #to get from 0:35 to 1:35 (1 minute)"
   ]
  },
  {
   "cell_type": "code",
   "execution_count": 91,
   "id": "cf64ebf3",
   "metadata": {},
   "outputs": [],
   "source": [
    "for file in os.listdir(UNSEEN_COOK_DIR):\n",
    "    if file.endswith(\".mp3\"):\n",
    "        mp3_file = os.path.join(UNSEEN_COOK_DIR, file)\n",
    "        output_directory = UNSEEN_COOK_DIR + '/spectrograms'\n",
    "        split_mp3_to_spectograms(mp3_file, output_directory, 48, 5, 21) #to get from 0:21 to 0:50"
   ]
  },
  {
   "cell_type": "code",
   "execution_count": 256,
   "id": "0141ade9",
   "metadata": {},
   "outputs": [],
   "source": [
    "@tf.function\n",
    "def preprocess_v2(file_path):\n",
    "    # Decode the PNG image\n",
    "    spectrogram_data = tf.io.read_file(file_path)\n",
    "    spectrogram_image = tf.image.decode_png(spectrogram_data, channels=3)  # Adjust channels as needed\n",
    "    \n",
    "    # Redimensionar la imagen a las dimensiones deseadas (308x775)\n",
    "    spectrogram_image = tf.image.resize(spectrogram_image, [308, 775])\n",
    "\n",
    "    # Convert the image to a tensor\n",
    "    spectrogram = tf.cast(spectrogram_image, tf.float32) / 255.0  # Scale to [0, 1]\n",
    "    \n",
    "    return spectrogram"
   ]
  },
  {
   "cell_type": "code",
   "execution_count": 257,
   "id": "3ccc0daa",
   "metadata": {},
   "outputs": [],
   "source": [
    "musk = tf.data.Dataset.list_files(UNSEEN_MUSK_DIR + '/spectrograms' + '/*.png')\n",
    "cook = tf.data.Dataset.list_files(UNSEEN_COOK_DIR + '/spectrograms' + '/*.png')\n",
    "\n",
    "elon_musk = tf.data.Dataset.zip((musk)) \n",
    "tim_cook = tf.data.Dataset.zip((cook)) "
   ]
  },
  {
   "cell_type": "code",
   "execution_count": 258,
   "id": "a7940095",
   "metadata": {},
   "outputs": [
    {
     "data": {
      "text/plain": [
       "b'data/Unseen/Elon Musk/spectrograms/spectrogram_11.png'"
      ]
     },
     "execution_count": 258,
     "metadata": {},
     "output_type": "execute_result"
    }
   ],
   "source": [
    "elon_musk.as_numpy_iterator().next()"
   ]
  },
  {
   "cell_type": "code",
   "execution_count": 259,
   "id": "78ed82e6",
   "metadata": {},
   "outputs": [
    {
     "data": {
      "text/plain": [
       "b'data/Unseen/Tim Cook/spectrograms/spectrogram_8.png'"
      ]
     },
     "execution_count": 259,
     "metadata": {},
     "output_type": "execute_result"
    }
   ],
   "source": [
    "tim_cook.as_numpy_iterator().next()"
   ]
  },
  {
   "cell_type": "code",
   "execution_count": 260,
   "id": "889db11c",
   "metadata": {},
   "outputs": [],
   "source": [
    "elon_musk = elon_musk.map(preprocess_v2)\n",
    "tim_cook = tim_cook.map(preprocess_v2)"
   ]
  },
  {
   "cell_type": "code",
   "execution_count": 261,
   "id": "607e4088",
   "metadata": {},
   "outputs": [],
   "source": [
    "elon_musk = elon_musk.cache()\n",
    "elon_musk = elon_musk.shuffle(buffer_size=1000)\n",
    "elon_musk = elon_musk.batch(batch_size=8)\n",
    "elon_musk = elon_musk.prefetch(8)"
   ]
  },
  {
   "cell_type": "code",
   "execution_count": 262,
   "id": "0890d8f6",
   "metadata": {},
   "outputs": [],
   "source": [
    "tim_cook = tim_cook.cache()\n",
    "tim_cook = tim_cook.shuffle(buffer_size=1000)\n",
    "tim_cook = tim_cook.batch(batch_size=8)\n",
    "tim_cook = tim_cook.prefetch(8)"
   ]
  },
  {
   "cell_type": "code",
   "execution_count": 263,
   "id": "96a56751",
   "metadata": {},
   "outputs": [],
   "source": [
    "X_unseen_elon = elon_musk.as_numpy_iterator().next()\n",
    "X_unseen_tim = tim_cook.as_numpy_iterator().next()"
   ]
  },
  {
   "cell_type": "markdown",
   "id": "f744e403",
   "metadata": {},
   "source": [
    "## 8.1 Predict Elon Musk audio"
   ]
  },
  {
   "cell_type": "code",
   "execution_count": 325,
   "id": "afbc90db",
   "metadata": {},
   "outputs": [],
   "source": [
    "def predict(item):\n",
    "    yhat_unseen = model.predict(item)\n",
    "    print(yhat_unseen)\n",
    "    yhat_unseen = [1 if prediction > 0.80 else 0 for prediction in yhat_unseen]\n",
    "    yhat_unseen_prediction.append(yhat_unseen)"
   ]
  },
  {
   "cell_type": "code",
   "execution_count": 326,
   "id": "40eeec9a",
   "metadata": {},
   "outputs": [
    {
     "name": "stdout",
     "output_type": "stream",
     "text": [
      "1/1 [==============================] - 0s 291ms/step\n",
      "[[0.9992862]\n",
      " [0.9999893]\n",
      " [0.9850564]\n",
      " [0.7956772]\n",
      " [0.9393171]\n",
      " [0.9911692]\n",
      " [0.9997157]\n",
      " [0.9982281]]\n",
      "1/1 [==============================] - 0s 189ms/step\n",
      "[[0.9920328 ]\n",
      " [0.5944643 ]\n",
      " [0.99997973]\n",
      " [0.8040521 ]\n",
      " [0.23208784]]\n"
     ]
    }
   ],
   "source": [
    "yhat_unseen_prediction = []\n",
    "X_unseen = [predict(item) for item in elon_musk] #Iterate through elon_musk"
   ]
  },
  {
   "cell_type": "code",
   "execution_count": 327,
   "id": "9f1aa1da",
   "metadata": {},
   "outputs": [
    {
     "data": {
      "text/plain": [
       "[[1, 1, 1, 0, 1, 1, 1, 1], [1, 0, 1, 1, 0]]"
      ]
     },
     "execution_count": 327,
     "metadata": {},
     "output_type": "execute_result"
    }
   ],
   "source": [
    "yhat_unseen_prediction"
   ]
  },
  {
   "cell_type": "code",
   "execution_count": 328,
   "id": "d764d8fb",
   "metadata": {},
   "outputs": [],
   "source": [
    "result = []\n",
    "for sub in yhat_unseen_prediction:\n",
    "    result.extend(sub)"
   ]
  },
  {
   "cell_type": "code",
   "execution_count": 329,
   "id": "09252714",
   "metadata": {},
   "outputs": [
    {
     "data": {
      "text/plain": [
       "[1, 1, 1, 0, 1, 1, 1, 1, 1, 0, 1, 1, 0]"
      ]
     },
     "execution_count": 329,
     "metadata": {},
     "output_type": "execute_result"
    }
   ],
   "source": [
    "result"
   ]
  },
  {
   "cell_type": "code",
   "execution_count": 330,
   "id": "2f0458eb",
   "metadata": {},
   "outputs": [
    {
     "data": {
      "text/plain": [
       "(10, 3)"
      ]
     },
     "execution_count": 330,
     "metadata": {},
     "output_type": "execute_result"
    }
   ],
   "source": [
    "n_ones_elon = np.count_nonzero(np.array(result) == 1)\n",
    "n_ceros_elon = np.count_nonzero(np.array(result) == 0)\n",
    "n_ones_elon, n_ceros_elon"
   ]
  },
  {
   "cell_type": "code",
   "execution_count": 331,
   "id": "0009d815",
   "metadata": {},
   "outputs": [
    {
     "name": "stdout",
     "output_type": "stream",
     "text": [
      "The audio is from Elon Musk\n"
     ]
    }
   ],
   "source": [
    "if n_ones_elon > n_ceros_elon:\n",
    "    print(\"The audio is from Elon Musk\")\n",
    "elif n_ones_elon < n_ceros_elon:\n",
    "    print(\"The audio is from Tim Cook\")\n",
    "else:\n",
    "    print(\"It has not been possible to differentiate clearly\")"
   ]
  },
  {
   "cell_type": "markdown",
   "id": "9e463837",
   "metadata": {},
   "source": [
    "## 8.2 Predict Tim Cook audio"
   ]
  },
  {
   "cell_type": "code",
   "execution_count": 332,
   "id": "25043edb",
   "metadata": {},
   "outputs": [
    {
     "name": "stdout",
     "output_type": "stream",
     "text": [
      "1/1 [==============================] - 0s 293ms/step\n",
      "[[0.9943121 ]\n",
      " [0.9984041 ]\n",
      " [0.00307285]\n",
      " [0.1944849 ]\n",
      " [0.6511628 ]\n",
      " [0.10884279]\n",
      " [0.68166167]\n",
      " [0.8706842 ]]\n",
      "1/1 [==============================] - 0s 248ms/step\n",
      "[[0.69202095]\n",
      " [0.9992778 ]\n",
      " [0.16241477]\n",
      " [0.04044723]]\n"
     ]
    }
   ],
   "source": [
    "yhat_unseen_prediction = []\n",
    "X_unseen = [predict(item) for item in tim_cook] #Iterate through tim_cook"
   ]
  },
  {
   "cell_type": "code",
   "execution_count": 333,
   "id": "ce5f68b6",
   "metadata": {},
   "outputs": [
    {
     "data": {
      "text/plain": [
       "[[1, 1, 0, 0, 0, 0, 0, 1], [0, 1, 0, 0]]"
      ]
     },
     "execution_count": 333,
     "metadata": {},
     "output_type": "execute_result"
    }
   ],
   "source": [
    "yhat_unseen_prediction"
   ]
  },
  {
   "cell_type": "code",
   "execution_count": 334,
   "id": "47237b10",
   "metadata": {},
   "outputs": [],
   "source": [
    "result = []\n",
    "for sub in yhat_unseen_prediction:\n",
    "    result.extend(sub)"
   ]
  },
  {
   "cell_type": "code",
   "execution_count": 335,
   "id": "c7299062",
   "metadata": {},
   "outputs": [
    {
     "data": {
      "text/plain": [
       "[1, 1, 0, 0, 0, 0, 0, 1, 0, 1, 0, 0]"
      ]
     },
     "execution_count": 335,
     "metadata": {},
     "output_type": "execute_result"
    }
   ],
   "source": [
    "result"
   ]
  },
  {
   "cell_type": "code",
   "execution_count": 336,
   "id": "896fbe04",
   "metadata": {},
   "outputs": [
    {
     "data": {
      "text/plain": [
       "(4, 8)"
      ]
     },
     "execution_count": 336,
     "metadata": {},
     "output_type": "execute_result"
    }
   ],
   "source": [
    "n_ones_tim = np.count_nonzero(np.array(result) == 1)\n",
    "n_ceros_tim = np.count_nonzero(np.array(result) == 0)\n",
    "n_ones_tim, n_ceros_tim"
   ]
  },
  {
   "cell_type": "code",
   "execution_count": 337,
   "id": "e76955d7",
   "metadata": {},
   "outputs": [
    {
     "name": "stdout",
     "output_type": "stream",
     "text": [
      "The audio is from Tim Cook\n"
     ]
    }
   ],
   "source": [
    "if n_ones_tim > n_ceros_tim:\n",
    "    print(\"The audio is from Elon Musk\")\n",
    "elif n_ones_tim < n_ceros_tim:\n",
    "    print(\"The audio is from Tim Cook\")\n",
    "else:\n",
    "    print(\"It has not been possible to differentiate clearly\")"
   ]
  }
 ],
 "metadata": {
  "kernelspec": {
   "display_name": "Python 3 (ipykernel)",
   "language": "python",
   "name": "python3"
  },
  "language_info": {
   "codemirror_mode": {
    "name": "ipython",
    "version": 3
   },
   "file_extension": ".py",
   "mimetype": "text/x-python",
   "name": "python",
   "nbconvert_exporter": "python",
   "pygments_lexer": "ipython3",
   "version": "3.9.17"
  }
 },
 "nbformat": 4,
 "nbformat_minor": 5
}
